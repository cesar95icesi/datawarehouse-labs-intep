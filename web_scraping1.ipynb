{
 "cells": [
  {
   "cell_type": "markdown",
   "id": "88a57a2a",
   "metadata": {},
   "source": [
    "# Web Scrapping\n"
   ]
  },
  {
   "cell_type": "code",
   "execution_count": 6,
   "id": "df5d5759",
   "metadata": {},
   "outputs": [
    {
     "name": "stdout",
     "output_type": "stream",
     "text": [
      "Archivo CSV generado: resultado_scraping/libros.csv\n"
     ]
    }
   ],
   "source": [
    "import requests\n",
    "from bs4 import BeautifulSoup\n",
    "import pandas as pd\n",
    "import os\n",
    "\n",
    "# Configurar cabeceras para evitar bloqueos / Reduce la probabilidad de ser bloqueado por medidas anti-bot\n",
    "\n",
    "headers = {\n",
    "    'User-Agent': 'Mozilla/5.0 (Windows NT 10.0; Win64; c64) AppleWebKit/537.36 (KHTML, like Gecko) Chrome/91.0.4472.124 Safari/537.36'\n",
    "}\n",
    "\n",
    "# URL de ejemplo\n",
    "url = \"http://books.toscrape.com/catalogue/category/books/travel_2/index.html\"\n",
    "response = requests.get(url, headers=headers)\n",
    "soup = BeautifulSoup(response.text, 'html.parser')\n",
    "\n",
    "# Extraer títulos y precios\n",
    "titulos = [book.h3.a['title'] for book in soup.find_all('article', class_='product_pod')]\n",
    "precios = [price.text for price in soup.find_all('p', class_='price_color')]\n",
    "\n",
    "# Crear DataFrame\n",
    "df = pd.DataFrame({\"Titulos\": titulos, \"Precio\": precios})\n",
    "\n",
    "# Crear el directorio si no existe\n",
    "os.makedirs(\"resultado_scraping\", exist_ok=True)\n",
    "# Exportar a CSV\n",
    "df.to_csv(\"resultado_scraping/libros.csv\", index=False)\n",
    "print(\"Archivo CSV generado: resultado_scraping/libros.csv\")"
   ]
  },
  {
   "cell_type": "code",
   "execution_count": null,
   "id": "07f4f8fc",
   "metadata": {},
   "outputs": [],
   "source": []
  }
 ],
 "metadata": {
  "kernelspec": {
   "display_name": ".venv",
   "language": "python",
   "name": "python3"
  },
  "language_info": {
   "codemirror_mode": {
    "name": "ipython",
    "version": 3
   },
   "file_extension": ".py",
   "mimetype": "text/x-python",
   "name": "python",
   "nbconvert_exporter": "python",
   "pygments_lexer": "ipython3",
   "version": "3.10.11"
  }
 },
 "nbformat": 4,
 "nbformat_minor": 5
}
