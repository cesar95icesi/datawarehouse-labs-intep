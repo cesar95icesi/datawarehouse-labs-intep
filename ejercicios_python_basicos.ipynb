{
 "cells": [
  {
   "cell_type": "markdown",
   "id": "130072c5",
   "metadata": {},
   "source": [
    "# Ejercicios Básicos de Python 🐍\n",
    "\n",
    "**¡Bienvenidos a sus primeros ejercicios de programación!**\n",
    "\n",
    "## Objetivo 🎯\n",
    "Practicar conceptos básicos de Python de manera divertida y sencilla antes de comenzar con análisis de datos.\n",
    "\n",
    "## Lo que practicaremos:\n",
    "- Variables y tipos de datos\n",
    "- Listas y operaciones básicas\n",
    "- Funciones simples\n",
    "- Estructuras de control (if, for)\n",
    "- Trabajo con diccionarios\n",
    "\n",
    "## Instrucciones:\n",
    "1. ✅ Lee cada ejercicio cuidadosamente\n",
    "2. 💻 Completa el código donde veas `# TU CÓDIGO AQUÍ`\n",
    "3. ▶️ Ejecuta cada celda para ver los resultados\n",
    "4. 🎉 ¡Celebra cuando funcione!\n",
    "\n",
    "**¡No te preocupes si no sale perfecto la primera vez! Programar es como aprender a andar en bicicleta** 🚲"
   ]
  },
  {
   "cell_type": "markdown",
   "id": "3333fe26",
   "metadata": {},
   "source": [
    "---\n",
    "## 📚 Ejercicio 1: Sistema de Calificaciones Universitarias\n",
    "\n",
    "Imagina que eres el asistente del profesor y necesitas crear un sistema simple para manejar las calificaciones de los estudiantes."
   ]
  },
  {
   "cell_type": "markdown",
   "id": "44428bf5",
   "metadata": {},
   "source": [
    "### Parte 1.1: Información básica del estudiante 👨‍🎓"
   ]
  },
  {
   "cell_type": "code",
   "execution_count": 3,
   "id": "42b7ae1c",
   "metadata": {},
   "outputs": [
    {
     "name": "stdout",
     "output_type": "stream",
     "text": [
      "=== INFORMACIÓN DEL ESTUDIANTE ===\n",
      "📋 Nombre: Cesar\n",
      "🎂 Edad: 20 años\n",
      "📚 Programa: Física\n",
      "📈 Semestre: 4\n",
      "🎓 Becado: No\n",
      "\n",
      "✅ ¡Excelente! Has completado la información básica\n"
     ]
    }
   ],
   "source": [
    "# 1.1 Crear variables con información de un estudiante\n",
    "print(\"=== INFORMACIÓN DEL ESTUDIANTE ===\")\n",
    "\n",
    "# TU CÓDIGO AQUÍ: Crea las siguientes variables\n",
    "nombre_estudiante = \"Cesar\"  # Escribe tu nombre entre las comillas\n",
    "edad = 20  # Tu edad\n",
    "programa = \"Física\"  # Tu programa académico\n",
    "semestre = 4  # Tu semestre actual\n",
    "es_becado = False  # True si tienes beca, False si no\n",
    "\n",
    "# No modifiques este código - solo imprime la información\n",
    "print(f\"📋 Nombre: {nombre_estudiante}\")\n",
    "print(f\"🎂 Edad: {edad} años\")\n",
    "print(f\"📚 Programa: {programa}\")\n",
    "print(f\"📈 Semestre: {semestre}\")\n",
    "print(f\"🎓 Becado: {'Sí' if es_becado else 'No'}\") #Operador ternario\n",
    "\n",
    "# Verificación automática\n",
    "if nombre_estudiante != \"\" and edad > 0:\n",
    "    print(\"\\n✅ ¡Excelente! Has completado la información básica\")\n",
    "else:\n",
    "    print(\"\\n❌ Faltan datos por completar\")"
   ]
  },
  {
   "cell_type": "markdown",
   "id": "77689392",
   "metadata": {},
   "source": [
    "### Parte 1.2: Lista de calificaciones 📊"
   ]
  },
  {
   "cell_type": "code",
   "execution_count": null,
   "id": "b99d8cc1",
   "metadata": {},
   "outputs": [],
   "source": [
    "# 1.2 Trabajar con listas de calificaciones\n",
    "print(\"=== CALIFICACIONES DEL SEMESTRE ===\")\n",
    "\n",
    "# Lista de materias\n",
    "materias = [\"Matemáticas\", \"Programación\", \"Inglés\", \"Física\", \"Química\"]\n",
    "\n",
    "# TU CÓDIGO AQUÍ: Crea una lista con 5 calificaciones (números entre 1.0 y 5.0)\n",
    "calificaciones = []  # Ejemplo: [4.2, 3.8, 4.5, 3.9, 4.1]\n",
    "\n",
    "# Mostrar calificaciones\n",
    "print(\"📋 Reporte de calificaciones:\")\n",
    "for i in range(len(materias)):\n",
    "    if i < len(calificaciones):\n",
    "        print(f\"   • {materias[i]}: {calificaciones[i]}\")\n",
    "    else:\n",
    "        print(f\"   • {materias[i]}: Sin calificación\")\n",
    "\n",
    "# TU CÓDIGO AQUÍ: Calcula el promedio de las calificaciones\n",
    "# Pista: suma todas las calificaciones y divide entre el número de materias\n",
    "if len(calificaciones) > 0:\n",
    "    promedio = 0  # Calcula aquí el promedio\n",
    "    print(f\"\\n📊 Promedio general: {promedio:.2f}\")\n",
    "    \n",
    "    # Verificación automática\n",
    "    if promedio > 0:\n",
    "        print(\"✅ ¡Bien hecho! Has calculado el promedio\")\n",
    "        if promedio >= 4.0:\n",
    "            print(\"🏆 ¡Excelente rendimiento académico!\")\n",
    "        elif promedio >= 3.5:\n",
    "            print(\"👍 Buen rendimiento académico\")\n",
    "        else:\n",
    "            print(\"💪 ¡Sigue esforzándote!\")\n",
    "else:\n",
    "    print(\"❌ No hay calificaciones para calcular el promedio\")"
   ]
  },
  {
   "cell_type": "markdown",
   "id": "c5d00d5e",
   "metadata": {},
   "source": [
    "### Parte 1.3: Función para clasificar estudiantes 🎯"
   ]
  },
  {
   "cell_type": "code",
   "execution_count": 16,
   "id": "62664773",
   "metadata": {},
   "outputs": [
    {
     "name": "stdout",
     "output_type": "stream",
     "text": [
      "=== CLASIFICACIÓN DE RENDIMIENTO ===\n",
      "🧪 Probando la función con estudiantes de ejemplo:\n",
      "   • Ana: 4.8 → Excelente\n",
      "   • Carlos: 4.2 → Sobresaliente\n",
      "   • María: 3.7 → Bueno\n",
      "   • José: 3.1 → Aceptable\n",
      "   • Laura: 2.5 → Debe mejorar\n",
      "\n",
      "❌ Falta usar la función con tu promedio\n"
     ]
    }
   ],
   "source": [
    "# 1.3 Crear una función para clasificar el rendimiento\n",
    "print(\"=== CLASIFICACIÓN DE RENDIMIENTO ===\")\n",
    "\n",
    "# TU CÓDIGO AQUÍ: Completa la función\n",
    "def clasificar_rendimiento(promedio):\n",
    "    \"\"\"\n",
    "    Clasifica el rendimiento académico según el promedio\n",
    "    \"\"\"\n",
    "    if promedio >= 4.5:\n",
    "        return \"Excelente\"\n",
    "    elif promedio >= 4.0:\n",
    "        return \"Sobresaliente\" \n",
    "    elif promedio >= 3.5:\n",
    "        return \"Bueno\"\n",
    "    elif promedio >= 3.0:\n",
    "        return \"Aceptable\"\n",
    "    else:\n",
    "        return \"Debe mejorar\"\n",
    "\n",
    "# Probar la función con diferentes promedios\n",
    "promedios_prueba = [4.8, 4.2, 3.7, 3.1, 2.5]\n",
    "nombres_prueba = [\"Ana\", \"Carlos\", \"María\", \"José\", \"Laura\"]\n",
    "\n",
    "print(\"🧪 Probando la función con estudiantes de ejemplo:\")\n",
    "for i in range(len(nombres_prueba)):\n",
    "    nombre = nombres_prueba[i]\n",
    "    promedio = promedios_prueba[i]\n",
    "    clasificacion = clasificar_rendimiento(promedio)\n",
    "    print(f\"   • {nombre}: {promedio} → {clasificacion}\")\n",
    "\n",
    "# TU CÓDIGO AQUÍ: Usa la función con tu propio promedio\n",
    "# Si completaste la parte 1.2, usa la variable 'promedio' que calculaste\n",
    "mi_clasificacion = \"\"  # Llama la función clasificar_rendimiento con tu promedio\n",
    "\n",
    "if mi_clasificacion != \"\":\n",
    "    print(f\"\\n🎯 Tu clasificación: {mi_clasificacion}\")\n",
    "    print(\"✅ ¡Excelente! Has usado la función correctamente\")\n",
    "else:\n",
    "    print(\"\\n❌ Falta usar la función con tu promedio\")"
   ]
  },
  {
   "cell_type": "markdown",
   "id": "2f9dd2cd",
   "metadata": {},
   "source": [
    "---\n",
    "## 🎮 Ejercicio 2: Juego de Adivinanza de Números\n",
    "\n",
    "Vamos a crear un juego simple donde el programa \"piensa\" un número y tú tratas de adivinarlo. ¡Es divertido y educativo!"
   ]
  },
  {
   "cell_type": "markdown",
   "id": "4460dbec",
   "metadata": {},
   "source": [
    "### Parte 2.1: Generar número secreto 🤫"
   ]
  },
  {
   "cell_type": "code",
   "execution_count": 19,
   "id": "ba05e06c",
   "metadata": {},
   "outputs": [
    {
     "name": "stdout",
     "output_type": "stream",
     "text": [
      "🎮 ¡JUEGO DE ADIVINANZA DE NÚMEROS!\n",
      "========================================\n",
      "🎯 He pensado un número entre 1 y 20\n",
      "🔢 Tienes 5 intentos para adivinarlo\n",
      "\n",
      "💡 Pistas: Te diré si tu número es mayor o menor que el mío\n",
      "\n",
      "❌ Falta generar el número secreto\n"
     ]
    }
   ],
   "source": [
    "# 2.1 Configurar el juego\n",
    "import random\n",
    "\n",
    "print(\"🎮 ¡JUEGO DE ADIVINANZA DE NÚMEROS!\")\n",
    "print(\"=\" * 40)\n",
    "\n",
    "# TU CÓDIGO AQUÍ: Genera un número aleatorio entre 1 y 20\n",
    "numero_secreto = 0  # Usa random.randint(1, 20)\n",
    "\n",
    "# Variables del juego\n",
    "intentos_maximos = 5\n",
    "intentos_realizados = 0\n",
    "adivinado = False\n",
    "\n",
    "print(\"🎯 He pensado un número entre 1 y 20\")\n",
    "print(f\"🔢 Tienes {intentos_maximos} intentos para adivinarlo\")\n",
    "print(\"\\n💡 Pistas: Te diré si tu número es mayor o menor que el mío\")\n",
    "\n",
    "# Solo para verificar que generaste el número (¡no hagas trampa mirando!)\n",
    "if numero_secreto > 0:\n",
    "    print(\"\\n✅ Número secreto generado. ¡El juego puede comenzar!\")\n",
    "    print(\"(Para desarrolladores: el número está entre 1 y 20)\")\n",
    "else:\n",
    "    print(\"\\n❌ Falta generar el número secreto\")"
   ]
  },
  {
   "cell_type": "markdown",
   "id": "1d88542d",
   "metadata": {},
   "source": [
    "### Parte 2.2: Lógica del juego 🧠"
   ]
  },
  {
   "cell_type": "code",
   "execution_count": null,
   "id": "95ec8881",
   "metadata": {},
   "outputs": [
    {
     "name": "stdout",
     "output_type": "stream",
     "text": [
      "🎲 SIMULACIÓN DEL JUEGO\n",
      "=========================\n",
      "🎯 Número secreto generado (para verificar): 0\n",
      "\n",
      "🎮 Comenzando simulación...\n",
      "\n",
      "=========================\n",
      "😅 No lo adivinaste. El número era: 0\n",
      "💪 ¡La próxima vez será!\n",
      "\n",
      "❌ Falta completar la lista de intentos\n"
     ]
    }
   ],
   "source": [
    "# 2.2 Simular el juego con intentos predefinidos\n",
    "print(\"🎲 SIMULACIÓN DEL JUEGO\")\n",
    "print(\"=\" * 25)\n",
    "\n",
    "# En lugar de pedir input al usuario, vamos a simular con una lista de intentos\n",
    "# TU CÓDIGO AQUÍ: Crea una lista con 5 números que crees que podrían ser el número secreto\n",
    "mis_intentos = []  # Ejemplo: [10, 15, 8, 12, 18]\n",
    "\n",
    "print(f\"🎯 Número secreto generado (para verificar): {numero_secreto}\")\n",
    "print(\"\\n🎮 Comenzando simulación...\\n\")\n",
    "\n",
    "# Lógica del juego\n",
    "for i, intento in enumerate(mis_intentos):\n",
    "    intentos_realizados = i + 1\n",
    "    print(f\"Intento {intentos_realizados}: {intento}\")\n",
    "    \n",
    "    # Completa las condiciones\n",
    "    if intento == numero_secreto:\n",
    "        print(\"🎉 ¡CORRECTO! ¡Has adivinado el número!\")\n",
    "        adivinado = True\n",
    "        break\n",
    "    elif intento < numero_secreto:\n",
    "        print(\"📈 Tu número es MENOR que el secreto\")\n",
    "    else:  # intento > numero_secreto\n",
    "        print(\"📉 Tu número es MAYOR que el secreto\")\n",
    "    \n",
    "    print()  # Línea en blanco\n",
    "\n",
    "# Mostrar resultado final\n",
    "print(\"=\" * 25)\n",
    "if adivinado:\n",
    "    print(f\"🏆 ¡GANASTE en {intentos_realizados} intentos!\")\n",
    "    if intentos_realizados == 1:\n",
    "        print(\"🤯 ¡Increíble! ¡Lo adivinaste al primer intento!\")\n",
    "    elif intentos_realizados <= 3:\n",
    "        print(\"🎯 ¡Excelente! Eres muy bueno adivinando\")\n",
    "    else:\n",
    "        print(\"👍 ¡Bien hecho! Persistencia es la clave\")\n",
    "else:\n",
    "    print(f\"😅 No lo adivinaste. El número era: {numero_secreto}\")\n",
    "    print(\"💪 ¡La próxima vez será!\")\n",
    "\n",
    "# Verificación del código\n",
    "if len(mis_intentos) > 0:\n",
    "    print(\"\\n✅ ¡Excelente! Has completado la lógica del juego\")\n",
    "else:\n",
    "    print(\"\\n❌ Falta completar la lista de intentos\")"
   ]
  },
  {
   "cell_type": "markdown",
   "id": "347fe292",
   "metadata": {},
   "source": [
    "### Parte 2.3: Estadísticas del juego 📈"
   ]
  },
  {
   "cell_type": "code",
   "execution_count": 4,
   "id": "fb097253",
   "metadata": {},
   "outputs": [
    {
     "name": "stdout",
     "output_type": "stream",
     "text": [
      "📊 ESTADÍSTICAS DEL JUEGO\n",
      "==============================\n"
     ]
    },
    {
     "ename": "NameError",
     "evalue": "name 'numero_secreto' is not defined",
     "output_type": "error",
     "traceback": [
      "\u001b[0;31m---------------------------------------------------------------------------\u001b[0m",
      "\u001b[0;31mNameError\u001b[0m                                 Traceback (most recent call last)",
      "Cell \u001b[0;32mIn[4], line 7\u001b[0m\n\u001b[1;32m      3\u001b[0m \u001b[38;5;28mprint\u001b[39m(\u001b[38;5;124m\"\u001b[39m\u001b[38;5;124m=\u001b[39m\u001b[38;5;124m\"\u001b[39m \u001b[38;5;241m*\u001b[39m \u001b[38;5;241m30\u001b[39m)\n\u001b[1;32m      5\u001b[0m \u001b[38;5;66;03m# TU CÓDIGO AQUÍ: Completa el diccionario con las estadísticas\u001b[39;00m\n\u001b[1;32m      6\u001b[0m estadisticas_juego \u001b[38;5;241m=\u001b[39m {\n\u001b[0;32m----> 7\u001b[0m     \u001b[38;5;124m\"\u001b[39m\u001b[38;5;124mnumero_secreto\u001b[39m\u001b[38;5;124m\"\u001b[39m: \u001b[43mnumero_secreto\u001b[49m,\n\u001b[1;32m      8\u001b[0m     \u001b[38;5;124m\"\u001b[39m\u001b[38;5;124mintentos_realizados\u001b[39m\u001b[38;5;124m\"\u001b[39m: intentos_realizados,\n\u001b[1;32m      9\u001b[0m     \u001b[38;5;124m\"\u001b[39m\u001b[38;5;124mintentos_maximos\u001b[39m\u001b[38;5;124m\"\u001b[39m: intentos_maximos,\n\u001b[1;32m     10\u001b[0m     \u001b[38;5;124m\"\u001b[39m\u001b[38;5;124mjuego_ganado\u001b[39m\u001b[38;5;124m\"\u001b[39m: adivinado,\n\u001b[1;32m     11\u001b[0m     \u001b[38;5;124m\"\u001b[39m\u001b[38;5;124mintentos_restantes\u001b[39m\u001b[38;5;124m\"\u001b[39m: intentos_maximos \u001b[38;5;241m-\u001b[39mintentos_realizados,  \u001b[38;5;66;03m# Calcula: intentos_maximos - intentos_realizados\u001b[39;00m\n\u001b[1;32m     12\u001b[0m     \u001b[38;5;124m\"\u001b[39m\u001b[38;5;124mporcentaje_exito\u001b[39m\u001b[38;5;124m\"\u001b[39m: \u001b[38;5;241m100\u001b[39m,    \u001b[38;5;66;03m# Si ganaste: 100, si no: 0\u001b[39;00m\n\u001b[1;32m     13\u001b[0m     \u001b[38;5;124m\"\u001b[39m\u001b[38;5;124mmejor_intento\u001b[39m\u001b[38;5;124m\"\u001b[39m: \u001b[38;5;241m0\u001b[39m,       \u001b[38;5;66;03m# El intento que estuvo más cerca del número secreto\u001b[39;00m\n\u001b[1;32m     14\u001b[0m     \u001b[38;5;124m\"\u001b[39m\u001b[38;5;124mdistancia_mejor_intento\u001b[39m\u001b[38;5;124m\"\u001b[39m: \u001b[38;5;241m0\u001b[39m  \u001b[38;5;66;03m# La distancia del mejor intento\u001b[39;00m\n\u001b[1;32m     15\u001b[0m }\n\u001b[1;32m     17\u001b[0m \u001b[38;5;66;03m# TU CÓDIGO AQUÍ: Encuentra el mejor intento (el más cercano al número secreto)\u001b[39;00m\n\u001b[1;32m     18\u001b[0m \u001b[38;5;28;01mif\u001b[39;00m \u001b[38;5;28mlen\u001b[39m(mis_intentos) \u001b[38;5;241m>\u001b[39m \u001b[38;5;241m0\u001b[39m:\n",
      "\u001b[0;31mNameError\u001b[0m: name 'numero_secreto' is not defined"
     ]
    }
   ],
   "source": [
    "# 2.3 Crear un diccionario con estadísticas del juego\n",
    "print(\"📊 ESTADÍSTICAS DEL JUEGO\")\n",
    "print(\"=\" * 30)\n",
    "\n",
    "# TU CÓDIGO AQUÍ: Completa el diccionario con las estadísticas\n",
    "estadisticas_juego = {\n",
    "    \"numero_secreto\": numero_secreto,\n",
    "    \"intentos_realizados\": intentos_realizados,\n",
    "    \"intentos_maximos\": intentos_maximos,\n",
    "    \"juego_ganado\": adivinado,\n",
    "    \"intentos_restantes\": intentos_maximos -intentos_realizados,  # Calcula: intentos_maximos - intentos_realizados\n",
    "    \"porcentaje_exito\": 100,    # Si ganaste: 100, si no: 0\n",
    "    \"mejor_intento\": 0,       # El intento que estuvo más cerca del número secreto\n",
    "    \"distancia_mejor_intento\": 0  # La distancia del mejor intento\n",
    "}\n",
    "\n",
    "# TU CÓDIGO AQUÍ: Encuentra el mejor intento (el más cercano al número secreto)\n",
    "if len(mis_intentos) > 0:\n",
    "    mejor_intento = mis_intentos[0]\n",
    "    menor_distancia = abs(mis_intentos[0] - numero_secreto)\n",
    "    \n",
    "    # Busca el intento con menor distancia\n",
    "    for intento in mis_intentos:\n",
    "        # La función abs() convierte cualquier número a su valor absoluto\n",
    "        distancia = abs(intento - numero_secreto)\n",
    "        if distancia < menor_distancia:\n",
    "            menor_distancia = distancia\n",
    "            mejor_intento = intento\n",
    "    \n",
    "    # Actualiza el diccionario\n",
    "    estadisticas_juego[\"mejor_intento\"] = mejor_intento\n",
    "    estadisticas_juego[\"distancia_mejor_intento\"] = menor_distancia\n",
    "\n",
    "# Mostrar estadísticas\n",
    "print(\"📋 Resumen de la partida:\")\n",
    "print(f\"   🎯 Número secreto: {estadisticas_juego['numero_secreto']}\")\n",
    "print(f\"   🎮 Intentos realizados: {estadisticas_juego['intentos_realizados']}/{estadisticas_juego['intentos_maximos']}\")\n",
    "print(f\"   🏆 Resultado: {'GANASTE 🎉' if estadisticas_juego['juego_ganado'] else 'PERDISTE 😅'}\")\n",
    "print(f\"   🎯 Mejor intento: {estadisticas_juego['mejor_intento']} (distancia: {estadisticas_juego['distancia_mejor_intento']})\")\n",
    "\n",
    "# TU CÓDIGO AQUÍ: Crea una función que recomiende una estrategia\n",
    "def dar_consejo_estrategia(estadisticas):\n",
    "    \"\"\"Da consejos para mejorar en el juego\"\"\"\n",
    "    if estadisticas[\"juego_ganado\"]:\n",
    "        return \"¡Excelente! Tu estrategia funcionó bien.\"\n",
    "    elif estadisticas[\"distancia_mejor_intento\"] <= 3:\n",
    "        return \"Estuviste muy cerca. Intenta números alrededor de tu mejor intento.\"\n",
    "    else:\n",
    "        return \"Intenta usar la estrategia de 'divide y vencerás': comienza por la mitad (10).\"\n",
    "\n",
    "consejo = dar_consejo_estrategia(estadisticas_juego)\n",
    "print(f\"\\n💡 Consejo: {consejo}\")\n",
    "\n",
    "print(\"\\n✅ ¡Felicitaciones! Has completado ambos ejercicios de Python\")\n",
    "print(\"🚀 ¡Ahora estás listo para el ETL básico!\")"
   ]
  },
  {
   "cell_type": "markdown",
   "id": "15f7cc8a",
   "metadata": {},
   "source": []
  },
  {
   "cell_type": "markdown",
   "id": "117a3726",
   "metadata": {},
   "source": []
  },
  {
   "cell_type": "code",
   "execution_count": 7,
   "id": "6b597d9b",
   "metadata": {},
   "outputs": [
    {
     "name": "stdout",
     "output_type": "stream",
     "text": [
      "{'numero_secreto': 79, 'intentos_realizados': 5, 'intentos_maximos': 20, 'juego_ganado': 2, 'intentos_restantes': 2, 'porcentaje_exito': 100, 'mejor_intento': 600, 'distancia_mejor_intento': 0}\n"
     ]
    }
   ],
   "source": [
    "# Ejemplo de como inyectar valores a un Diccionario\n",
    "\n",
    "estadisticas_juego = {\n",
    "    \"numero_secreto\": 79,\n",
    "    \"intentos_realizados\": 5,\n",
    "    \"intentos_maximos\": 20,\n",
    "    \"juego_ganado\": 2,\n",
    "    \"intentos_restantes\": 2,  # Calcula: intentos_maximos - intentos_realizados\n",
    "    \"porcentaje_exito\": 100,    # Si ganaste: 100, si no: 0\n",
    "    \"mejor_intento\": 0,       # El intento que estuvo más cerca del número secreto\n",
    "    \"distancia_mejor_intento\": 0  # La distancia del mejor intento\n",
    "}\n",
    "\n",
    "estadisticas_juego[\"mejor_intento\"] = 600\n",
    "\n",
    "print(estadisticas_juego)"
   ]
  },
  {
   "cell_type": "code",
   "execution_count": null,
   "id": "0d81b5b5",
   "metadata": {},
   "outputs": [],
   "source": []
  }
 ],
 "metadata": {
  "kernelspec": {
   "display_name": "Python 3",
   "language": "python",
   "name": "python3"
  },
  "language_info": {
   "codemirror_mode": {
    "name": "ipython",
    "version": 3
   },
   "file_extension": ".py",
   "mimetype": "text/x-python",
   "name": "python",
   "nbconvert_exporter": "python",
   "pygments_lexer": "ipython3",
   "version": "3.10.11"
  }
 },
 "nbformat": 4,
 "nbformat_minor": 5
}
